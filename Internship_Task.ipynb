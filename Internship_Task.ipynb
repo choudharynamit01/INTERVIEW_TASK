{
 "cells": [
  {
   "cell_type": "markdown",
   "metadata": {},
   "source": [
    "# Importing Libraries"
   ]
  },
  {
   "cell_type": "code",
   "execution_count": 132,
   "metadata": {},
   "outputs": [],
   "source": [
    "import pandas as pd\n",
    "import numpy as np"
   ]
  },
  {
   "cell_type": "markdown",
   "metadata": {},
   "source": [
    "# Loading dataset in the variable 'data'"
   ]
  },
  {
   "cell_type": "code",
   "execution_count": 133,
   "metadata": {},
   "outputs": [],
   "source": [
    "data=pd.read_csv(\"result.csv\")"
   ]
  },
  {
   "cell_type": "markdown",
   "metadata": {},
   "source": [
    "# Printing first 5 rows of my dataset"
   ]
  },
  {
   "cell_type": "code",
   "execution_count": 134,
   "metadata": {},
   "outputs": [
    {
     "data": {
      "text/html": [
       "<div>\n",
       "<style scoped>\n",
       "    .dataframe tbody tr th:only-of-type {\n",
       "        vertical-align: middle;\n",
       "    }\n",
       "\n",
       "    .dataframe tbody tr th {\n",
       "        vertical-align: top;\n",
       "    }\n",
       "\n",
       "    .dataframe thead th {\n",
       "        text-align: right;\n",
       "    }\n",
       "</style>\n",
       "<table border=\"1\" class=\"dataframe\">\n",
       "  <thead>\n",
       "    <tr style=\"text-align: right;\">\n",
       "      <th></th>\n",
       "      <th>req/baseUrl</th>\n",
       "      <th>req/body/note/title</th>\n",
       "      <th>req/body/note/desc</th>\n",
       "      <th>req/fresh</th>\n",
       "      <th>req/headers/host</th>\n",
       "      <th>req/headers/user-agent</th>\n",
       "      <th>req/headers/content-type</th>\n",
       "      <th>req/headers/org_id</th>\n",
       "      <th>req/headers/user_session_id</th>\n",
       "      <th>req/headers/accept</th>\n",
       "      <th>...</th>\n",
       "      <th>req/hostname</th>\n",
       "      <th>req/ip</th>\n",
       "      <th>req/originalUrl</th>\n",
       "      <th>req/path</th>\n",
       "      <th>req/protocol</th>\n",
       "      <th>req/secure</th>\n",
       "      <th>req/stale</th>\n",
       "      <th>req/subdomains/0</th>\n",
       "      <th>req/xhr</th>\n",
       "      <th>isSafe</th>\n",
       "    </tr>\n",
       "  </thead>\n",
       "  <tbody>\n",
       "    <tr>\n",
       "      <th>0</th>\n",
       "      <td>/crm/note</td>\n",
       "      <td>Tina Johnson</td>\n",
       "      <td>Top recognize eat. Fact whom spend area thing ...</td>\n",
       "      <td>False</td>\n",
       "      <td>example.com</td>\n",
       "      <td>insomnia/2020.4.2</td>\n",
       "      <td>application/json</td>\n",
       "      <td>5f572820f65af8ac955b2e83</td>\n",
       "      <td>5fb27d3750b11901a35649fe</td>\n",
       "      <td>*/*</td>\n",
       "      <td>...</td>\n",
       "      <td>example.com</td>\n",
       "      <td>::ffff:117.99.96.244</td>\n",
       "      <td>/crm/note</td>\n",
       "      <td>/note</td>\n",
       "      <td>http</td>\n",
       "      <td>False</td>\n",
       "      <td>True</td>\n",
       "      <td>crm</td>\n",
       "      <td>False</td>\n",
       "      <td>True</td>\n",
       "    </tr>\n",
       "    <tr>\n",
       "      <th>1</th>\n",
       "      <td>/crm/note</td>\n",
       "      <td>Clayton Cooper</td>\n",
       "      <td>As possible American many prepare four strong....</td>\n",
       "      <td>False</td>\n",
       "      <td>example.com</td>\n",
       "      <td>insomnia/2020.4.2</td>\n",
       "      <td>application/json</td>\n",
       "      <td>5f572820f65af8ac955b2e83</td>\n",
       "      <td>5fb27d3750b11901a35649fe</td>\n",
       "      <td>*/*</td>\n",
       "      <td>...</td>\n",
       "      <td>example.com</td>\n",
       "      <td>::ffff:117.99.96.244</td>\n",
       "      <td>/crm/note</td>\n",
       "      <td>/note</td>\n",
       "      <td>http</td>\n",
       "      <td>False</td>\n",
       "      <td>True</td>\n",
       "      <td>crm</td>\n",
       "      <td>False</td>\n",
       "      <td>True</td>\n",
       "    </tr>\n",
       "    <tr>\n",
       "      <th>2</th>\n",
       "      <td>/crm/note</td>\n",
       "      <td>Curtis Wolfe</td>\n",
       "      <td>Tuesday Notes or 2 like 2 XSP Class</td>\n",
       "      <td>False</td>\n",
       "      <td>example.com</td>\n",
       "      <td>insomnia/2020.4.2</td>\n",
       "      <td>application/json</td>\n",
       "      <td>5f572820f65af8ac955b2e83</td>\n",
       "      <td>5fb27d3750b11901a35649fe</td>\n",
       "      <td>*/*</td>\n",
       "      <td>...</td>\n",
       "      <td>example.com</td>\n",
       "      <td>::ffff:117.99.96.244</td>\n",
       "      <td>/crm/note</td>\n",
       "      <td>/note</td>\n",
       "      <td>http</td>\n",
       "      <td>False</td>\n",
       "      <td>True</td>\n",
       "      <td>crm</td>\n",
       "      <td>False</td>\n",
       "      <td>False</td>\n",
       "    </tr>\n",
       "    <tr>\n",
       "      <th>3</th>\n",
       "      <td>/crm/note</td>\n",
       "      <td>Laura Fisher</td>\n",
       "      <td>State third represent energy campaign not forg...</td>\n",
       "      <td>False</td>\n",
       "      <td>example.com</td>\n",
       "      <td>insomnia/2020.4.2</td>\n",
       "      <td>application/json</td>\n",
       "      <td>5f572820f65af8ac955b2e83</td>\n",
       "      <td>5fb27d3750b11901a35649fe</td>\n",
       "      <td>*/*</td>\n",
       "      <td>...</td>\n",
       "      <td>example.com</td>\n",
       "      <td>::ffff:117.99.96.244</td>\n",
       "      <td>/crm/note</td>\n",
       "      <td>/note</td>\n",
       "      <td>http</td>\n",
       "      <td>False</td>\n",
       "      <td>True</td>\n",
       "      <td>crm</td>\n",
       "      <td>False</td>\n",
       "      <td>True</td>\n",
       "    </tr>\n",
       "    <tr>\n",
       "      <th>4</th>\n",
       "      <td>/crm/note</td>\n",
       "      <td>Tyler Santos</td>\n",
       "      <td>Us enjoy since. Time identify image position o...</td>\n",
       "      <td>False</td>\n",
       "      <td>example.com</td>\n",
       "      <td>insomnia/2020.4.2</td>\n",
       "      <td>application/json</td>\n",
       "      <td>5f572820f65af8ac955b2e83</td>\n",
       "      <td>5fb27d3750b11901a35649fe</td>\n",
       "      <td>*/*</td>\n",
       "      <td>...</td>\n",
       "      <td>example.com</td>\n",
       "      <td>::ffff:117.99.96.244</td>\n",
       "      <td>/crm/note</td>\n",
       "      <td>/note</td>\n",
       "      <td>http</td>\n",
       "      <td>False</td>\n",
       "      <td>True</td>\n",
       "      <td>crm</td>\n",
       "      <td>False</td>\n",
       "      <td>False</td>\n",
       "    </tr>\n",
       "  </tbody>\n",
       "</table>\n",
       "<p>5 rows × 23 columns</p>\n",
       "</div>"
      ],
      "text/plain": [
       "  req/baseUrl req/body/note/title  \\\n",
       "0   /crm/note        Tina Johnson   \n",
       "1   /crm/note      Clayton Cooper   \n",
       "2   /crm/note        Curtis Wolfe   \n",
       "3   /crm/note        Laura Fisher   \n",
       "4   /crm/note        Tyler Santos   \n",
       "\n",
       "                                  req/body/note/desc  req/fresh  \\\n",
       "0  Top recognize eat. Fact whom spend area thing ...      False   \n",
       "1  As possible American many prepare four strong....      False   \n",
       "2                Tuesday Notes or 2 like 2 XSP Class      False   \n",
       "3  State third represent energy campaign not forg...      False   \n",
       "4  Us enjoy since. Time identify image position o...      False   \n",
       "\n",
       "  req/headers/host req/headers/user-agent req/headers/content-type  \\\n",
       "0      example.com      insomnia/2020.4.2         application/json   \n",
       "1      example.com      insomnia/2020.4.2         application/json   \n",
       "2      example.com      insomnia/2020.4.2         application/json   \n",
       "3      example.com      insomnia/2020.4.2         application/json   \n",
       "4      example.com      insomnia/2020.4.2         application/json   \n",
       "\n",
       "         req/headers/org_id req/headers/user_session_id req/headers/accept  \\\n",
       "0  5f572820f65af8ac955b2e83    5fb27d3750b11901a35649fe                */*   \n",
       "1  5f572820f65af8ac955b2e83    5fb27d3750b11901a35649fe                */*   \n",
       "2  5f572820f65af8ac955b2e83    5fb27d3750b11901a35649fe                */*   \n",
       "3  5f572820f65af8ac955b2e83    5fb27d3750b11901a35649fe                */*   \n",
       "4  5f572820f65af8ac955b2e83    5fb27d3750b11901a35649fe                */*   \n",
       "\n",
       "   ...  req/hostname                req/ip req/originalUrl req/path  \\\n",
       "0  ...   example.com  ::ffff:117.99.96.244       /crm/note    /note   \n",
       "1  ...   example.com  ::ffff:117.99.96.244       /crm/note    /note   \n",
       "2  ...   example.com  ::ffff:117.99.96.244       /crm/note    /note   \n",
       "3  ...   example.com  ::ffff:117.99.96.244       /crm/note    /note   \n",
       "4  ...   example.com  ::ffff:117.99.96.244       /crm/note    /note   \n",
       "\n",
       "  req/protocol req/secure req/stale req/subdomains/0  req/xhr  isSafe  \n",
       "0         http      False      True              crm    False    True  \n",
       "1         http      False      True              crm    False    True  \n",
       "2         http      False      True              crm    False   False  \n",
       "3         http      False      True              crm    False    True  \n",
       "4         http      False      True              crm    False   False  \n",
       "\n",
       "[5 rows x 23 columns]"
      ]
     },
     "execution_count": 134,
     "metadata": {},
     "output_type": "execute_result"
    }
   ],
   "source": [
    "data.head()"
   ]
  },
  {
   "cell_type": "markdown",
   "metadata": {},
   "source": [
    "# Checking all the information about my dataset"
   ]
  },
  {
   "cell_type": "code",
   "execution_count": 135,
   "metadata": {},
   "outputs": [
    {
     "name": "stdout",
     "output_type": "stream",
     "text": [
      "<class 'pandas.core.frame.DataFrame'>\n",
      "RangeIndex: 1000 entries, 0 to 999\n",
      "Data columns (total 23 columns):\n",
      "req/baseUrl                    1000 non-null object\n",
      "req/body/note/title            1000 non-null object\n",
      "req/body/note/desc             1000 non-null object\n",
      "req/fresh                      1000 non-null bool\n",
      "req/headers/host               1000 non-null object\n",
      "req/headers/user-agent         1000 non-null object\n",
      "req/headers/content-type       1000 non-null object\n",
      "req/headers/org_id             1000 non-null object\n",
      "req/headers/user_session_id    1000 non-null object\n",
      "req/headers/accept             1000 non-null object\n",
      "req/headers/content-length     1000 non-null int64\n",
      "req/headers/user/name          1000 non-null object\n",
      "req/headers/user/role          1000 non-null object\n",
      "req/hostname                   1000 non-null object\n",
      "req/ip                         1000 non-null object\n",
      "req/originalUrl                1000 non-null object\n",
      "req/path                       1000 non-null object\n",
      "req/protocol                   1000 non-null object\n",
      "req/secure                     1000 non-null bool\n",
      "req/stale                      1000 non-null bool\n",
      "req/subdomains/0               1000 non-null object\n",
      "req/xhr                        1000 non-null bool\n",
      "isSafe                         1000 non-null bool\n",
      "dtypes: bool(5), int64(1), object(17)\n",
      "memory usage: 145.6+ KB\n"
     ]
    }
   ],
   "source": [
    "data.info()"
   ]
  },
  {
   "cell_type": "markdown",
   "metadata": {},
   "source": [
    "# Checking number of unique value contained by each column"
   ]
  },
  {
   "cell_type": "code",
   "execution_count": 136,
   "metadata": {},
   "outputs": [
    {
     "data": {
      "text/plain": [
       "req/baseUrl                      1\n",
       "req/body/note/title            994\n",
       "req/body/note/desc             750\n",
       "req/fresh                        1\n",
       "req/headers/host                 1\n",
       "req/headers/user-agent           1\n",
       "req/headers/content-type         1\n",
       "req/headers/org_id               1\n",
       "req/headers/user_session_id      1\n",
       "req/headers/accept               1\n",
       "req/headers/content-length       1\n",
       "req/headers/user/name            1\n",
       "req/headers/user/role            1\n",
       "req/hostname                     1\n",
       "req/ip                           1\n",
       "req/originalUrl                  1\n",
       "req/path                         1\n",
       "req/protocol                     1\n",
       "req/secure                       1\n",
       "req/stale                        1\n",
       "req/subdomains/0                 1\n",
       "req/xhr                          1\n",
       "isSafe                           2\n",
       "dtype: int64"
      ]
     },
     "execution_count": 136,
     "metadata": {},
     "output_type": "execute_result"
    }
   ],
   "source": [
    "data.nunique()"
   ]
  },
  {
   "cell_type": "markdown",
   "metadata": {},
   "source": [
    "# Spliting data in to independent variable and dependent variable"
   ]
  },
  {
   "cell_type": "markdown",
   "metadata": {},
   "source": [
    "I took only column3(index 2) as my independent variable because the dependent variable(y) will highly depend on column('req/body/note/desc') and as other columns has unique value only 1, so it won't affect much on the dependent variable(y)"
   ]
  },
  {
   "cell_type": "code",
   "execution_count": 137,
   "metadata": {},
   "outputs": [],
   "source": [
    "X=data.iloc[:,2].values\n",
    "Y=data.iloc[:,-1].values"
   ]
  },
  {
   "cell_type": "markdown",
   "metadata": {},
   "source": [
    "# Converting the text data of column in to matrix(Of numerical values) form by using CountVectorizer "
   ]
  },
  {
   "cell_type": "markdown",
   "metadata": {},
   "source": [
    "CountVectorizer is used to convert text data in to numerical values, so that I can train my model on those numerical data "
   ]
  },
  {
   "cell_type": "code",
   "execution_count": 138,
   "metadata": {},
   "outputs": [],
   "source": [
    "from sklearn.feature_extraction.text import CountVectorizer\n",
    "cv=CountVectorizer(max_features=6000)\n",
    "X_mat=cv.fit_transform(X[:,]).todense()"
   ]
  },
  {
   "cell_type": "code",
   "execution_count": 139,
   "metadata": {},
   "outputs": [
    {
     "data": {
      "text/plain": [
       "matrix([[0, 0, 0, ..., 0, 0, 0],\n",
       "        [0, 0, 0, ..., 0, 0, 0],\n",
       "        [0, 0, 0, ..., 0, 0, 0],\n",
       "        ...,\n",
       "        [0, 0, 0, ..., 0, 0, 0],\n",
       "        [0, 0, 0, ..., 0, 0, 0],\n",
       "        [0, 0, 0, ..., 0, 0, 0]], dtype=int64)"
      ]
     },
     "execution_count": 139,
     "metadata": {},
     "output_type": "execute_result"
    }
   ],
   "source": [
    "X_mat"
   ]
  },
  {
   "cell_type": "markdown",
   "metadata": {},
   "source": [
    "# Splitting data in to two parts (train data and test data).80% will be train data and 20 % will be test data"
   ]
  },
  {
   "cell_type": "code",
   "execution_count": 140,
   "metadata": {},
   "outputs": [],
   "source": [
    "from sklearn.model_selection import train_test_split\n",
    "X_train,X_test,Y_train,Y_test=train_test_split(X_mat,Y,test_size=0.2,random_state=0)"
   ]
  },
  {
   "cell_type": "markdown",
   "metadata": {},
   "source": [
    "# Training my model using Support Vector Classifier(SVC)"
   ]
  },
  {
   "cell_type": "code",
   "execution_count": 169,
   "metadata": {},
   "outputs": [
    {
     "data": {
      "text/plain": [
       "SVC(C=5, cache_size=200, class_weight=None, coef0=0.0,\n",
       "  decision_function_shape='ovr', degree=3, gamma='auto', kernel='rbf',\n",
       "  max_iter=-1, probability=False, random_state=None, shrinking=True,\n",
       "  tol=0.001, verbose=False)"
      ]
     },
     "execution_count": 169,
     "metadata": {},
     "output_type": "execute_result"
    }
   ],
   "source": [
    "from sklearn.svm import SVC\n",
    "dtc=SVC(C=5,kernel='rbf',gamma='auto')\n",
    "dtc.fit(X_train,Y_train)\n"
   ]
  },
  {
   "cell_type": "markdown",
   "metadata": {},
   "source": [
    "# Predicting values of X_test dataset"
   ]
  },
  {
   "cell_type": "code",
   "execution_count": 170,
   "metadata": {},
   "outputs": [],
   "source": [
    "y_pred=dtc.predict(X_test)"
   ]
  },
  {
   "cell_type": "markdown",
   "metadata": {},
   "source": [
    "# Checking the Performance of my model "
   ]
  },
  {
   "cell_type": "code",
   "execution_count": 179,
   "metadata": {},
   "outputs": [
    {
     "name": "stdout",
     "output_type": "stream",
     "text": [
      "Accuracy: 84.0 %\n"
     ]
    }
   ],
   "source": [
    "from sklearn.metrics import confusion_matrix\n",
    "confusion_matrix(Y_test,y_pred)\n",
    "\n",
    "from sklearn.metrics import accuracy_score\n",
    "acc=accuracy_score(Y_test,y_pred)\n",
    "print(\"Accuracy:\",(acc*100),\"%\")"
   ]
  },
  {
   "cell_type": "markdown",
   "metadata": {},
   "source": [
    "# Using hypertuning technique to get the best possible parameters for Support Vector Classifier"
   ]
  },
  {
   "cell_type": "code",
   "execution_count": 151,
   "metadata": {},
   "outputs": [
    {
     "name": "stderr",
     "output_type": "stream",
     "text": [
      "C:\\ProgramData\\Anaconda3\\lib\\site-packages\\sklearn\\model_selection\\_search.py:841: DeprecationWarning: The default of the `iid` parameter will change from True to False in version 0.22 and will be removed in 0.24. This will change numeric results when test-set sizes are unequal.\n",
      "  DeprecationWarning)\n",
      "C:\\ProgramData\\Anaconda3\\lib\\site-packages\\sklearn\\svm\\base.py:196: FutureWarning: The default value of gamma will change from 'auto' to 'scale' in version 0.22 to account better for unscaled features. Set gamma explicitly to 'auto' or 'scale' to avoid this warning.\n",
      "  \"avoid this warning.\", FutureWarning)\n"
     ]
    },
    {
     "data": {
      "text/plain": [
       "GridSearchCV(cv=10, error_score='raise-deprecating',\n",
       "       estimator=SVC(C=10, cache_size=200, class_weight=None, coef0=0.0,\n",
       "  decision_function_shape='ovr', degree=3, gamma='auto_deprecated',\n",
       "  kernel='rbf', max_iter=-1, probability=False, random_state=None,\n",
       "  shrinking=True, tol=0.001, verbose=False),\n",
       "       fit_params=None, iid='warn', n_jobs=-1,\n",
       "       param_grid={'kernel': ('linear', 'rbf', 'poly', 'sigmoid'), 'C': [1, 2, 5, 10, 100, 1000]},\n",
       "       pre_dispatch='2*n_jobs', refit=True, return_train_score='warn',\n",
       "       scoring=None, verbose=0)"
      ]
     },
     "execution_count": 151,
     "metadata": {},
     "output_type": "execute_result"
    }
   ],
   "source": [
    "from sklearn.model_selection import GridSearchCV\n",
    "param_grid= {'kernel':('linear', 'rbf','poly','sigmoid'), 'C':[1,2,5,10,100,1000]}\n",
    "grid=GridSearchCV(dtc,param_grid,cv=10,n_jobs=-1)\n",
    "grid.fit(X_train,Y_train)\n"
   ]
  },
  {
   "cell_type": "code",
   "execution_count": 152,
   "metadata": {},
   "outputs": [
    {
     "data": {
      "text/plain": [
       "{'C': 5, 'kernel': 'rbf'}"
      ]
     },
     "execution_count": 152,
     "metadata": {},
     "output_type": "execute_result"
    }
   ],
   "source": [
    "grid.best_params_"
   ]
  },
  {
   "cell_type": "code",
   "execution_count": null,
   "metadata": {},
   "outputs": [],
   "source": []
  }
 ],
 "metadata": {
  "kernelspec": {
   "display_name": "Python 3",
   "language": "python",
   "name": "python3"
  },
  "language_info": {
   "codemirror_mode": {
    "name": "ipython",
    "version": 3
   },
   "file_extension": ".py",
   "mimetype": "text/x-python",
   "name": "python",
   "nbconvert_exporter": "python",
   "pygments_lexer": "ipython3",
   "version": "3.7.3"
  }
 },
 "nbformat": 4,
 "nbformat_minor": 2
}
